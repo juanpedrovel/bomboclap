{
 "cells": [
  {
   "cell_type": "code",
   "execution_count": 2,
   "metadata": {},
   "outputs": [],
   "source": [
    "import torch\n",
    "from torchvision import datasets, transforms\n",
    "\n",
    "%matplotlib inline\n",
    "%config InlineBackend.figure_format = \"retina\"\n",
    "\n",
    "import matplotlib.pyplot as plt\n",
    "\n",
    "device = torch.device(0)"
   ]
  },
  {
   "cell_type": "markdown",
   "metadata": {},
   "source": [
    "# Inference and Validation\n",
    "\n",
    "Now that you have a trained network, you can use it for making predictions. This is typically called **inference**, a term borrowed from statistics. However, neural networks have a tendency to perform *too well* on the training data and aren't able to generalize to data that hasn't been seen before. This is called **overfitting** and it impairs inference performance. To test for overfitting while training, we measure the performance on data not in the training set called the **validation** set. We avoid overfitting through regularization such as dropout while monitoring the validation performance during training. In this notebook, I'll show you how to do this in PyTorch. \n",
    "\n",
    "As usual, let's start by loading the dataset through torchvision. You'll learn more about torchvision and loading data in a later part. This time we'll be taking advantage of the test set which you can get by setting `train=False` here:\n",
    "\n",
    "```python\n",
    "testset = datasets.FashionMNIST('~/.pytorch/F_MNIST_data/', download=True, train=False, transform=transform)\n",
    "```\n",
    "\n",
    "The test set contains images just like the training set. Typically you'll see 10-20% of the original dataset held out for testing and validation with the rest being used for training."
   ]
  },
  {
   "cell_type": "code",
   "execution_count": 3,
   "metadata": {},
   "outputs": [
    {
     "data": {
      "text/plain": [
       "device(type='cuda', index=0)"
      ]
     },
     "execution_count": 3,
     "metadata": {},
     "output_type": "execute_result"
    }
   ],
   "source": [
    "# Define a transform to normalize the data\n",
    "transform = transforms.Compose([transforms.ToTensor(),\n",
    "                                transforms.Normalize((0.5, 0.5, 0.5), (0.5, 0.5, 0.5))])\n",
    "# Download and load the training data\n",
    "trainset = datasets.FashionMNIST('~/.pytorch/F_MNIST_data/', download=True, train=True, transform=transform)\n",
    "trainloader = torch.utils.data.DataLoader(trainset, batch_size=64, shuffle=True)\n",
    "\n",
    "# Download and load the test data\n",
    "testset = datasets.FashionMNIST('~/.pytorch/F_MNIST_data/', download=True, train=False, transform=transform)\n",
    "testloader = torch.utils.data.DataLoader(testset, batch_size=64, shuffle=True)\n",
    "torch.device('cuda:0')"
   ]
  },
  {
   "cell_type": "code",
   "execution_count": 4,
   "metadata": {},
   "outputs": [
    {
     "data": {
      "text/plain": [
       "0"
      ]
     },
     "execution_count": 4,
     "metadata": {},
     "output_type": "execute_result"
    }
   ],
   "source": [
    "torch.cuda.current_device()"
   ]
  },
  {
   "cell_type": "markdown",
   "metadata": {},
   "source": [
    "Here I'll create a model like normal, using the same one from my solution for part 4."
   ]
  },
  {
   "cell_type": "code",
   "execution_count": 5,
   "metadata": {},
   "outputs": [],
   "source": [
    "from torch import nn, optim\n",
    "import torch.nn.functional as F\n",
    "\n",
    "class Classifier(nn.Module):\n",
    "    def __init__(self):\n",
    "        super().__init__()\n",
    "        self.fc1 = nn.Linear(784, 256)\n",
    "        self.fc2 = nn.Linear(256, 128)\n",
    "        self.fc3 = nn.Linear(128, 64)\n",
    "        self.fc4 = nn.Linear(64, 10)\n",
    "        \n",
    "    def forward(self, x):\n",
    "        # make sure input tensor is flattened\n",
    "        x = x.view(x.shape[0], -1)\n",
    "        \n",
    "        x = F.relu(self.fc1(x))\n",
    "        x = F.relu(self.fc2(x))\n",
    "        x = F.relu(self.fc3(x))\n",
    "        x = F.log_softmax(self.fc4(x), dim=1)\n",
    "        \n",
    "        return x"
   ]
  },
  {
   "cell_type": "markdown",
   "metadata": {},
   "source": [
    "The goal of validation is to measure the model's performance on data that isn't part of the training set. Performance here is up to the developer to define though. Typically this is just accuracy, the percentage of classes the network predicted correctly. Other options are [precision and recall](https://en.wikipedia.org/wiki/Precision_and_recall#Definition_(classification_context)) and top-5 error rate. We'll focus on accuracy here. First I'll do a forward pass with one batch from the test set."
   ]
  },
  {
   "cell_type": "code",
   "execution_count": 6,
   "metadata": {},
   "outputs": [
    {
     "name": "stdout",
     "output_type": "stream",
     "text": [
      "torch.Size([64, 10])\n"
     ]
    }
   ],
   "source": [
    "model = Classifier()\n",
    "\n",
    "images, labels = next(iter(testloader))\n",
    "# Get the class probabilities\n",
    "ps = torch.exp(model(images))\n",
    "# Make sure the shape is appropriate, we should get 10 class probabilities for 64 examples\n",
    "print(ps.shape)"
   ]
  },
  {
   "cell_type": "markdown",
   "metadata": {},
   "source": [
    "With the probabilities, we can get the most likely class using the `ps.topk` method. This returns the $k$ highest values. Since we just want the most likely class, we can use `ps.topk(1)`. This returns a tuple of the top-$k$ values and the top-$k$ indices. If the highest value is the fifth element, we'll get back 4 as the index."
   ]
  },
  {
   "cell_type": "code",
   "execution_count": 7,
   "metadata": {},
   "outputs": [
    {
     "name": "stdout",
     "output_type": "stream",
     "text": [
      "tensor([[3],\n",
      "        [3],\n",
      "        [3],\n",
      "        [3],\n",
      "        [3],\n",
      "        [3],\n",
      "        [3],\n",
      "        [3],\n",
      "        [3],\n",
      "        [3]])\n"
     ]
    }
   ],
   "source": [
    "top_p, top_class = ps.topk(1, dim=1)\n",
    "# Look at the most likely classes for the first 10 examples\n",
    "print(top_class[:10,:])"
   ]
  },
  {
   "cell_type": "markdown",
   "metadata": {},
   "source": [
    "Now we can check if the predicted classes match the labels. This is simple to do by equating `top_class` and `labels`, but we have to be careful of the shapes. Here `top_class` is a 2D tensor with shape `(64, 1)` while `labels` is 1D with shape `(64)`. To get the equality to work out the way we want, `top_class` and `labels` must have the same shape.\n",
    "\n",
    "If we do\n",
    "\n",
    "```python\n",
    "equals = top_class == labels\n",
    "```\n",
    "\n",
    "`equals` will have shape `(64, 64)`, try it yourself. What it's doing is comparing the one element in each row of `top_class` with each element in `labels` which returns 64 True/False boolean values for each row."
   ]
  },
  {
   "cell_type": "code",
   "execution_count": 8,
   "metadata": {},
   "outputs": [],
   "source": [
    "equals = top_class == labels.view(*top_class.shape)"
   ]
  },
  {
   "cell_type": "markdown",
   "metadata": {},
   "source": [
    "Now we need to calculate the percentage of correct predictions. `equals` has binary values, either 0 or 1. This means that if we just sum up all the values and divide by the number of values, we get the percentage of correct predictions. This is the same operation as taking the mean, so we can get the accuracy with a call to `torch.mean`. If only it was that simple. If you try `torch.mean(equals)`, you'll get an error\n",
    "\n",
    "```\n",
    "RuntimeError: mean is not implemented for type torch.ByteTensor\n",
    "```\n",
    "\n",
    "This happens because `equals` has type `torch.ByteTensor` but `torch.mean` isn't implement for tensors with that type. So we'll need to convert `equals` to a float tensor. Note that when we take `torch.mean` it returns a scalar tensor, to get the actual value as a float we'll need to do `accuracy.item()`."
   ]
  },
  {
   "cell_type": "code",
   "execution_count": 9,
   "metadata": {},
   "outputs": [
    {
     "name": "stdout",
     "output_type": "stream",
     "text": [
      "Accuracy: 6.25%\n"
     ]
    }
   ],
   "source": [
    "accuracy = torch.mean(equals.type(torch.FloatTensor))\n",
    "print(f'Accuracy: {accuracy.item()*100}%')"
   ]
  },
  {
   "cell_type": "markdown",
   "metadata": {},
   "source": [
    "The network is untrained so it's making random guesses and we should see an accuracy around 10%. Now let's train our network and include our validation pass so we can measure how well the network is performing on the test set. Since we're not updating our parameters in the validation pass, we can speed up our code by turning off gradients using `torch.no_grad()`:\n",
    "\n",
    "```python\n",
    "# turn off gradients\n",
    "with torch.no_grad():\n",
    "    # validation pass here\n",
    "    for images, labels in testloader:\n",
    "        ...\n",
    "```\n",
    "\n",
    ">**Exercise:** Implement the validation loop below and print out the total accuracy after the loop. You can largely copy and paste the code from above, but I suggest typing it in because writing it out yourself is essential for building the skill. In general you'll always learn more by typing it rather than copy-pasting. You should be able to get an accuracy above 80%."
   ]
  },
  {
   "cell_type": "code",
   "execution_count": 12,
   "metadata": {},
   "outputs": [
    {
     "name": "stdout",
     "output_type": "stream",
     "text": [
      "Epoch: 0/30\n",
      "Training Loss:  0.5164281844870368\n",
      "Test Loss:  tensor(0.3792, device='cuda:0')\n",
      "Test Accuracy:  tensor(0.8612)\n",
      "Epoch: 1/30\n",
      "Training Loss:  0.3949851044523182\n",
      "Test Loss:  tensor(0.3766, device='cuda:0')\n",
      "Test Accuracy:  tensor(0.8640)\n",
      "Epoch: 2/30\n",
      "Training Loss:  0.3575134258359861\n",
      "Test Loss:  tensor(0.3286, device='cuda:0')\n",
      "Test Accuracy:  tensor(0.8803)\n",
      "Epoch: 3/30\n",
      "Training Loss:  0.3350372251583887\n",
      "Test Loss:  tensor(0.3109, device='cuda:0')\n",
      "Test Accuracy:  tensor(0.8872)\n",
      "Epoch: 4/30\n",
      "Training Loss:  0.3142105569479181\n",
      "Test Loss:  tensor(0.2790, device='cuda:0')\n",
      "Test Accuracy:  tensor(0.8961)\n",
      "Epoch: 5/30\n",
      "Training Loss:  0.29989901061918434\n",
      "Test Loss:  tensor(0.2790, device='cuda:0')\n",
      "Test Accuracy:  tensor(0.8965)\n",
      "Epoch: 6/30\n",
      "Training Loss:  0.29435313297614357\n",
      "Test Loss:  tensor(0.2561, device='cuda:0')\n",
      "Test Accuracy:  tensor(0.9020)\n",
      "Epoch: 7/30\n",
      "Training Loss:  0.28298387338103514\n",
      "Test Loss:  tensor(0.2546, device='cuda:0')\n",
      "Test Accuracy:  tensor(0.9063)\n",
      "Epoch: 8/30\n",
      "Training Loss:  0.27018340402193414\n",
      "Test Loss:  tensor(0.2547, device='cuda:0')\n",
      "Test Accuracy:  tensor(0.9072)\n",
      "Epoch: 9/30\n",
      "Training Loss:  0.2671165913899443\n",
      "Test Loss:  tensor(0.2422, device='cuda:0')\n",
      "Test Accuracy:  tensor(0.9096)\n",
      "Epoch: 10/30\n",
      "Training Loss:  0.25735725282129446\n",
      "Test Loss:  tensor(0.2497, device='cuda:0')\n",
      "Test Accuracy:  tensor(0.9065)\n",
      "Epoch: 11/30\n",
      "Training Loss:  0.25079996813970334\n",
      "Test Loss:  tensor(0.2266, device='cuda:0')\n",
      "Test Accuracy:  tensor(0.9179)\n",
      "Epoch: 12/30\n",
      "Training Loss:  0.2468318312978948\n",
      "Test Loss:  tensor(0.2206, device='cuda:0')\n",
      "Test Accuracy:  tensor(0.9169)\n",
      "Epoch: 13/30\n",
      "Training Loss:  0.238648289909908\n",
      "Test Loss:  tensor(0.2322, device='cuda:0')\n",
      "Test Accuracy:  tensor(0.9130)\n",
      "Epoch: 14/30\n",
      "Training Loss:  0.23901268405351303\n",
      "Test Loss:  tensor(0.2316, device='cuda:0')\n",
      "Test Accuracy:  tensor(0.9117)\n",
      "Epoch: 15/30\n",
      "Training Loss:  0.22521440811487023\n",
      "Test Loss:  tensor(0.2221, device='cuda:0')\n",
      "Test Accuracy:  tensor(0.9177)\n",
      "Epoch: 16/30\n",
      "Training Loss:  0.22506622678594296\n",
      "Test Loss:  tensor(0.1954, device='cuda:0')\n",
      "Test Accuracy:  tensor(0.9269)\n",
      "Epoch: 17/30\n",
      "Training Loss:  0.2213308290203116\n",
      "Test Loss:  tensor(0.2108, device='cuda:0')\n",
      "Test Accuracy:  tensor(0.9193)\n",
      "Epoch: 18/30\n",
      "Training Loss:  0.21604214739729602\n",
      "Test Loss:  tensor(0.2080, device='cuda:0')\n",
      "Test Accuracy:  tensor(0.9240)\n",
      "Epoch: 19/30\n",
      "Training Loss:  0.2159021943688456\n",
      "Test Loss:  tensor(0.2378, device='cuda:0')\n",
      "Test Accuracy:  tensor(0.9169)\n",
      "Epoch: 20/30\n",
      "Training Loss:  0.20994707044444358\n",
      "Test Loss:  tensor(0.1876, device='cuda:0')\n",
      "Test Accuracy:  tensor(0.9313)\n",
      "Epoch: 21/30\n",
      "Training Loss:  0.2004629876583751\n",
      "Test Loss:  tensor(0.1900, device='cuda:0')\n",
      "Test Accuracy:  tensor(0.9304)\n",
      "Epoch: 22/30\n",
      "Training Loss:  0.20442058578896116\n",
      "Test Loss:  tensor(0.1862, device='cuda:0')\n",
      "Test Accuracy:  tensor(0.9312)\n",
      "Epoch: 23/30\n",
      "Training Loss:  0.20067501591165054\n",
      "Test Loss:  tensor(0.2048, device='cuda:0')\n",
      "Test Accuracy:  tensor(0.9246)\n",
      "Epoch: 24/30\n",
      "Training Loss:  0.1952422900971319\n",
      "Test Loss:  tensor(0.2016, device='cuda:0')\n",
      "Test Accuracy:  tensor(0.9253)\n",
      "Epoch: 25/30\n",
      "Training Loss:  0.19224827901434416\n",
      "Test Loss:  tensor(0.1736, device='cuda:0')\n",
      "Test Accuracy:  tensor(0.9356)\n",
      "Epoch: 26/30\n",
      "Training Loss:  0.19508695887175323\n",
      "Test Loss:  tensor(0.1664, device='cuda:0')\n",
      "Test Accuracy:  tensor(0.9403)\n",
      "Epoch: 27/30\n",
      "Training Loss:  0.18604944043679597\n",
      "Test Loss:  tensor(0.1684, device='cuda:0')\n",
      "Test Accuracy:  tensor(0.9372)\n",
      "Epoch: 28/30\n",
      "Training Loss:  0.1786878816108269\n",
      "Test Loss:  tensor(0.1787, device='cuda:0')\n",
      "Test Accuracy:  tensor(0.9339)\n",
      "Epoch: 29/30\n",
      "Training Loss:  0.18862602024126662\n",
      "Test Loss:  tensor(0.1999, device='cuda:0')\n",
      "Test Accuracy:  tensor(0.9281)\n"
     ]
    }
   ],
   "source": [
    "model = Classifier().to(device)\n",
    "criterion = nn.NLLLoss()\n",
    "optimizer = optim.Adam(model.parameters(), lr=0.003)\n",
    "\n",
    "epochs = 30\n",
    "steps = 0\n",
    "\n",
    "train_losses, test_losses = [], []\n",
    "for e in range(epochs):\n",
    "    running_loss = 0\n",
    "    for images, labels in trainloader:\n",
    "        images = images.to(device)\n",
    "        labels = labels.to(device)\n",
    "        \n",
    "        optimizer.zero_grad()\n",
    "        \n",
    "        log_ps = model(images)\n",
    "        loss = criterion(log_ps, labels)\n",
    "        loss.backward()\n",
    "        optimizer.step()\n",
    "        \n",
    "        running_loss += loss.item()\n",
    "        \n",
    "    else:\n",
    "        ## TODO: Implement the validation pass and print out the validation accuracy\n",
    "        test_loss = 0\n",
    "        accuracy = 0\n",
    "        \n",
    "        with torch.no_grad():\n",
    "            for images, labels in trainloader:\n",
    "                images = images.to(device)\n",
    "                labels = labels.to(device)\n",
    "                log_ps = model(images)\n",
    "                test_loss += criterion(log_ps, labels)\n",
    "                predictions = torch.exp(log_ps)\n",
    "                top_prob, top_class = predictions.topk(1, dim=1)\n",
    "                equals = top_class == labels.view(*top_class.shape)\n",
    "                accuracy += torch.mean(equals.type(torch.FloatTensor))\n",
    "        \n",
    "        train_losses.append(running_loss / len(trainloader))\n",
    "        test_losses.append(test_loss / len(trainloader))\n",
    "        \n",
    "        print(\"Epoch: \" + str(e) + \"/\" + str(epochs))\n",
    "        print(\"Training Loss: \", running_loss/len(trainloader))\n",
    "        print(\"Test Loss: \", test_loss/len(trainloader))\n",
    "        print('Test Accuracy: ', accuracy/len(trainloader))"
   ]
  },
  {
   "cell_type": "code",
   "execution_count": 13,
   "metadata": {},
   "outputs": [
    {
     "data": {
      "text/plain": [
       "<matplotlib.legend.Legend at 0x22d14061390>"
      ]
     },
     "execution_count": 13,
     "metadata": {},
     "output_type": "execute_result"
    },
    {
     "data": {
      "image/png": "[encoded data removed]",
      "text/plain": [
       "<Figure size 432x288 with 1 Axes>"
      ]
     },
     "metadata": {
      "image/png": {
       "height": 250,
       "width": 380
      }
     },
     "output_type": "display_data"
    }
   ],
   "source": [
    "plt.plot(train_losses, label=\"Training Loss\")\n",
    "plt.plot(test_losses, label=\"Validation Loss\")\n",
    "plt.legend(frameon=False)"
   ]
  },
  {
   "cell_type": "markdown",
   "metadata": {},
   "source": [
    "## Overfitting\n",
    "\n",
    "If we look at the training and validation losses as we train the network, we can see a phenomenon known as overfitting.\n",
    "\n",
    "<img src='assets/overfitting.png' width=450px>\n",
    "\n",
    "The network learns the training set better and better, resulting in lower training losses. However, it starts having problems generalizing to data outside the training set leading to the validation loss increasing. The ultimate goal of any deep learning model is to make predictions on new data, so we should strive to get the lowest validation loss possible. One option is to use the version of the model with the lowest validation loss, here the one around 8-10 training epochs. This strategy is called *early-stopping*. In practice, you'd save the model frequently as you're training then later choose the model with the lowest validation loss.\n",
    "\n",
    "The most common method to reduce overfitting (outside of early-stopping) is *dropout*, where we randomly drop input units. This forces the network to share information between weights, increasing it's ability to generalize to new data. Adding dropout in PyTorch is straightforward using the [`nn.Dropout`](https://pytorch.org/docs/stable/nn.html#torch.nn.Dropout) module.\n",
    "\n",
    "```python\n",
    "class Classifier(nn.Module):\n",
    "    def __init__(self):\n",
    "        super().__init__()\n",
    "        self.fc1 = nn.Linear(784, 256)\n",
    "        self.fc2 = nn.Linear(256, 128)\n",
    "        self.fc3 = nn.Linear(128, 64)\n",
    "        self.fc4 = nn.Linear(64, 10)\n",
    "        \n",
    "        # Dropout module with 0.2 drop probability\n",
    "        self.dropout = nn.Dropout(p=0.2)\n",
    "        \n",
    "    def forward(self, x):\n",
    "        # make sure input tensor is flattened\n",
    "        x = x.view(x.shape[0], -1)\n",
    "        \n",
    "        # Now with dropout\n",
    "        x = self.dropout(F.relu(self.fc1(x)))\n",
    "        x = self.dropout(F.relu(self.fc2(x)))\n",
    "        x = self.dropout(F.relu(self.fc3(x)))\n",
    "        \n",
    "        # output so no dropout here\n",
    "        x = F.log_softmax(self.fc4(x), dim=1)\n",
    "        \n",
    "        return x\n",
    "```\n",
    "\n",
    "During training we want to use dropout to prevent overfitting, but during inference we want to use the entire network. So, we need to turn off dropout during validation, testing, and whenever we're using the network to make predictions. To do this, you use `model.eval()`. This sets the model to evaluation mode where the dropout probability is 0. You can turn dropout back on by setting the model to train mode with `model.train()`. In general, the pattern for the validation loop will look like this, where you turn off gradients, set the model to evaluation mode, calculate the validation loss and metric, then set the model back to train mode.\n",
    "\n",
    "```python\n",
    "# turn off gradients\n",
    "with torch.no_grad():\n",
    "    \n",
    "    # set model to evaluation mode\n",
    "    model.eval()\n",
    "    \n",
    "    # validation pass here\n",
    "    for images, labels in testloader:\n",
    "        ...\n",
    "\n",
    "# set model back to train mode\n",
    "model.train()\n",
    "```"
   ]
  },
  {
   "cell_type": "markdown",
   "metadata": {},
   "source": [
    "> **Exercise:** Add dropout to your model and train it on Fashion-MNIST again. See if you can get a lower validation loss or higher accuracy."
   ]
  },
  {
   "cell_type": "code",
   "execution_count": 14,
   "metadata": {},
   "outputs": [],
   "source": [
    "## TODO: Define your model with dropout added\n",
    "class Classifier(nn.Module):\n",
    "    def __init__(self):\n",
    "        super().__init__()\n",
    "        \n",
    "        self.fc1 = nn.Linear(784, 256)\n",
    "        self.fc2 = nn.Linear(256, 128)\n",
    "        self.fc3 = nn.Linear(128, 64)\n",
    "        self.fc4 = nn.Linear(64, 10)\n",
    "        \n",
    "        self.dropout = nn.Dropout(p=0.2)\n",
    "    \n",
    "    def forward(self, x):\n",
    "        x = x.view(x.shape[0], -1)\n",
    "        \n",
    "        x = self.dropout(F.relu(self.fc1(x)))\n",
    "        x = self.dropout(F.relu(self.fc2(x)))\n",
    "        x = self.dropout(F.relu(self.fc3(x)))\n",
    "        \n",
    "        x = F.log_softmax(self.fc4(x), dim=1)\n",
    "        return x"
   ]
  },
  {
   "cell_type": "code",
   "execution_count": null,
   "metadata": {},
   "outputs": [
    {
     "name": "stdout",
     "output_type": "stream",
     "text": [
      "Epoch: 1/30\n",
      "Training Loss:  0.6036854451144936\n",
      "Test Loss:  tensor(0.4295, device='cuda:0')\n",
      "Test Accuracy:  tensor(0.8406) \n",
      "\n",
      "Epoch: 2/30\n",
      "Training Loss:  0.4356333460571415\n",
      "Test Loss:  tensor(0.3796, device='cuda:0')\n",
      "Test Accuracy:  tensor(0.8567) \n",
      "\n",
      "Epoch: 3/30\n",
      "Training Loss:  0.39916237135495203\n",
      "Test Loss:  tensor(0.3627, device='cuda:0')\n",
      "Test Accuracy:  tensor(0.8651) \n",
      "\n",
      "Epoch: 4/30\n",
      "Training Loss:  0.37587223807250514\n",
      "Test Loss:  tensor(0.3149, device='cuda:0')\n",
      "Test Accuracy:  tensor(0.8852) \n",
      "\n",
      "Epoch: 5/30\n",
      "Training Loss:  0.3582628413653577\n",
      "Test Loss:  tensor(0.2961, device='cuda:0')\n",
      "Test Accuracy:  tensor(0.8898) \n",
      "\n",
      "Epoch: 6/30\n",
      "Training Loss:  0.3426884482187757\n",
      "Test Loss:  tensor(0.2991, device='cuda:0')\n",
      "Test Accuracy:  tensor(0.8876) \n",
      "\n",
      "Epoch: 7/30\n",
      "Training Loss:  0.33288072044851935\n",
      "Test Loss:  tensor(0.2718, device='cuda:0')\n",
      "Test Accuracy:  tensor(0.8985) \n",
      "\n",
      "Epoch: 8/30\n",
      "Training Loss:  0.32146852424562866\n",
      "Test Loss:  tensor(0.2732, device='cuda:0')\n",
      "Test Accuracy:  tensor(0.8981) \n",
      "\n",
      "Epoch: 9/30\n",
      "Training Loss:  0.3126909918685966\n",
      "Test Loss:  tensor(0.2719, device='cuda:0')\n",
      "Test Accuracy:  tensor(0.8987) \n",
      "\n",
      "Epoch: 10/30\n",
      "Training Loss:  0.30264166481236915\n",
      "Test Loss:  tensor(0.2642, device='cuda:0')\n",
      "Test Accuracy:  tensor(0.9000) \n",
      "\n",
      "Epoch: 11/30\n",
      "Training Loss:  0.2968578461899178\n",
      "Test Loss:  tensor(0.2493, device='cuda:0')\n",
      "Test Accuracy:  tensor(0.9068) \n",
      "\n",
      "Epoch: 12/30\n",
      "Training Loss:  0.2912553333873942\n",
      "Test Loss:  tensor(0.2437, device='cuda:0')\n",
      "Test Accuracy:  tensor(0.9076) \n",
      "\n",
      "Epoch: 13/30\n",
      "Training Loss:  0.28765194050507\n",
      "Test Loss:  tensor(0.2339, device='cuda:0')\n",
      "Test Accuracy:  tensor(0.9117) \n",
      "\n",
      "Epoch: 14/30\n",
      "Training Loss:  0.28068431316694215\n",
      "Test Loss:  tensor(0.2358, device='cuda:0')\n",
      "Test Accuracy:  tensor(0.9093) \n",
      "\n",
      "Epoch: 15/30\n",
      "Training Loss:  0.27727408079640953\n",
      "Test Loss:  tensor(0.2217, device='cuda:0')\n",
      "Test Accuracy:  tensor(0.9158) \n",
      "\n"
     ]
    }
   ],
   "source": [
    "## TODO: Train your model with dropout, and monitor the training progress with the validation loss and accuracy\n",
    "model = Classifier()\n",
    "model = model.to(device)\n",
    "criterion = nn.NLLLoss()\n",
    "optimizer = optim.Adam(model.parameters(), lr=0.001)\n",
    "\n",
    "epochs = 30\n",
    "steps = 0\n",
    "\n",
    "train_losses, test_losses = [], []\n",
    "\n",
    "for e in range(epochs):\n",
    "    running_loss = 0\n",
    "    for images, labels in trainloader:\n",
    "        images = images.to(device)\n",
    "        labels = labels.to(device)\n",
    "        \n",
    "        optimizer.zero_grad()\n",
    "        \n",
    "        log_ps = model(images)\n",
    "        loss = criterion(log_ps, labels)\n",
    "        loss.backward()\n",
    "        optimizer.step()\n",
    "        \n",
    "        running_loss += loss.item()\n",
    "        \n",
    "    else:\n",
    "        test_loss = 0\n",
    "        accuracy = 0\n",
    "        \n",
    "        with torch.no_grad():\n",
    "            \n",
    "            model.eval() # Activate the whole network to evaluate the model (deactivate dropout)\n",
    "            \n",
    "            for images, labels in trainloader:\n",
    "                images = images.to(device)\n",
    "                labels = labels.to(device)\n",
    "                log_ps = model(images)\n",
    "                test_loss += criterion(log_ps, labels)\n",
    "                predictions = torch.exp(log_ps)\n",
    "                top_prob, top_class = predictions.topk(1, dim=1)\n",
    "                equals = top_class == labels.view(*top_class.shape)\n",
    "                accuracy += torch.mean(equals.type(torch.FloatTensor))\n",
    "                \n",
    "            model.train() # Reactivate Dropout\n",
    "            \n",
    "        train_losses.append(running_loss / len(trainloader))\n",
    "        test_losses.append(test_loss / len(trainloader))\n",
    "        \n",
    "        print(\"Epoch: \" + str(e+1) + \"/\" + str(epochs))\n",
    "        print(\"Training Loss: \", running_loss/len(trainloader))\n",
    "        print(\"Test Loss: \", test_loss/len(trainloader))\n",
    "        print('Test Accuracy: ', accuracy/len(trainloader),\"\\n\")"
   ]
  },
  {
   "cell_type": "code",
   "execution_count": 18,
   "metadata": {},
   "outputs": [
    {
     "data": {
      "text/plain": [
       "<matplotlib.legend.Legend at 0x1a002439eb8>"
      ]
     },
     "execution_count": 18,
     "metadata": {},
     "output_type": "execute_result"
    },
    {
     "data": {
      "image/png": "[encoded data removed]",
      "text/plain": [
       "<Figure size 432x288 with 1 Axes>"
      ]
     },
     "metadata": {
      "image/png": {
       "height": 250,
       "width": 373
      }
     },
     "output_type": "display_data"
    }
   ],
   "source": [
    "plt.plot(train_losses, label=\"Training Loss\")\n",
    "plt.plot(test_losses, label=\"Validation Loss\")\n",
    "plt.legend(frameon=False)"
   ]
  },
  {
   "cell_type": "markdown",
   "metadata": {},
   "source": [
    "## Inference\n",
    "\n",
    "Now that the model is trained, we can use it for inference. We've done this before, but now we need to remember to set the model in inference mode with `model.eval()`. You'll also want to turn off autograd with the `torch.no_grad()` context."
   ]
  },
  {
   "cell_type": "code",
   "execution_count": 20,
   "metadata": {},
   "outputs": [
    {
     "ename": "TypeError",
     "evalue": "can't convert CUDA tensor to numpy. Use Tensor.cpu() to copy the tensor to host memory first.",
     "output_type": "error",
     "traceback": [
      "\u001b[1;31m---------------------------------------------------------------------------\u001b[0m",
      "\u001b[1;31mTypeError\u001b[0m                                 Traceback (most recent call last)",
      "\u001b[1;32m<ipython-input-20-9e7ac29362d8>\u001b[0m in \u001b[0;36m<module>\u001b[1;34m()\u001b[0m\n\u001b[0;32m     19\u001b[0m \u001b[1;33m\u001b[0m\u001b[0m\n\u001b[0;32m     20\u001b[0m \u001b[1;31m# Plot the image and probabilities\u001b[0m\u001b[1;33m\u001b[0m\u001b[1;33m\u001b[0m\u001b[0m\n\u001b[1;32m---> 21\u001b[1;33m \u001b[0mhelper\u001b[0m\u001b[1;33m.\u001b[0m\u001b[0mview_classify\u001b[0m\u001b[1;33m(\u001b[0m\u001b[0mimg\u001b[0m\u001b[1;33m.\u001b[0m\u001b[0mview\u001b[0m\u001b[1;33m(\u001b[0m\u001b[1;36m1\u001b[0m\u001b[1;33m,\u001b[0m \u001b[1;36m28\u001b[0m\u001b[1;33m,\u001b[0m \u001b[1;36m28\u001b[0m\u001b[1;33m)\u001b[0m\u001b[1;33m,\u001b[0m \u001b[0mps\u001b[0m\u001b[1;33m,\u001b[0m \u001b[0mversion\u001b[0m\u001b[1;33m=\u001b[0m\u001b[1;34m'Fashion'\u001b[0m\u001b[1;33m)\u001b[0m\u001b[1;33m\u001b[0m\u001b[0m\n\u001b[0m",
      "\u001b[1;32mD:\\OneDrive\\Documentos\\Courses\\Deep Learning in Pytorch\\deep-learning-v2-pytorch\\intro-to-pytorch\\helper.py\u001b[0m in \u001b[0;36mview_classify\u001b[1;34m(img, ps, version)\u001b[0m\n\u001b[0;32m     68\u001b[0m     ''' Function for viewing an image and it's predicted classes.\n\u001b[0;32m     69\u001b[0m     '''\n\u001b[1;32m---> 70\u001b[1;33m     \u001b[0mps\u001b[0m \u001b[1;33m=\u001b[0m \u001b[0mps\u001b[0m\u001b[1;33m.\u001b[0m\u001b[0mdata\u001b[0m\u001b[1;33m.\u001b[0m\u001b[0mnumpy\u001b[0m\u001b[1;33m(\u001b[0m\u001b[1;33m)\u001b[0m\u001b[1;33m.\u001b[0m\u001b[0msqueeze\u001b[0m\u001b[1;33m(\u001b[0m\u001b[1;33m)\u001b[0m\u001b[1;33m\u001b[0m\u001b[0m\n\u001b[0m\u001b[0;32m     71\u001b[0m \u001b[1;33m\u001b[0m\u001b[0m\n\u001b[0;32m     72\u001b[0m     \u001b[0mfig\u001b[0m\u001b[1;33m,\u001b[0m \u001b[1;33m(\u001b[0m\u001b[0max1\u001b[0m\u001b[1;33m,\u001b[0m \u001b[0max2\u001b[0m\u001b[1;33m)\u001b[0m \u001b[1;33m=\u001b[0m \u001b[0mplt\u001b[0m\u001b[1;33m.\u001b[0m\u001b[0msubplots\u001b[0m\u001b[1;33m(\u001b[0m\u001b[0mfigsize\u001b[0m\u001b[1;33m=\u001b[0m\u001b[1;33m(\u001b[0m\u001b[1;36m6\u001b[0m\u001b[1;33m,\u001b[0m\u001b[1;36m9\u001b[0m\u001b[1;33m)\u001b[0m\u001b[1;33m,\u001b[0m \u001b[0mncols\u001b[0m\u001b[1;33m=\u001b[0m\u001b[1;36m2\u001b[0m\u001b[1;33m)\u001b[0m\u001b[1;33m\u001b[0m\u001b[0m\n",
      "\u001b[1;31mTypeError\u001b[0m: can't convert CUDA tensor to numpy. Use Tensor.cpu() to copy the tensor to host memory first."
     ]
    }
   ],
   "source": [
    "# Import helper module (should be in the repo)\n",
    "import helper\n",
    "\n",
    "# Test out your network!\n",
    "\n",
    "model.eval()\n",
    "\n",
    "data_iter = iter(testloader)\n",
    "images, labels = data_iter.next()\n",
    "img = images[0]\n",
    "# Convert 2D image to 1D vector\n",
    "img = img.view(1, 784).to(device)\n",
    "\n",
    "# Calculate the class probabilities (softmax) for img\n",
    "with torch.no_grad():\n",
    "    output = model.forward(img)\n",
    "\n",
    "ps = torch.exp(output)\n",
    "\n",
    "# Plot the image and probabilities\n",
    "helper.view_classify(img.view(1, 28, 28), ps.cpu(), version='Fashion')"
   ]
  },
  {
   "cell_type": "markdown",
   "metadata": {},
   "source": [
    "## Next Up!\n",
    "\n",
    "In the next part, I'll show you how to save your trained models. In general, you won't want to train a model everytime you need it. Instead, you'll train once, save it, then load the model when you want to train more or use if for inference."
   ]
  }
 ],
 "metadata": {
  "kernelspec": {
   "display_name": "Python 3",
   "language": "python",
   "name": "python3"
  },
  "language_info": {
   "codemirror_mode": {
    "name": "ipython",
    "version": 3
   },
   "file_extension": ".py",
   "mimetype": "text/x-python",
   "name": "python",
   "nbconvert_exporter": "python",
   "pygments_lexer": "ipython3",
   "version": "3.6.5"
  }
 },
 "nbformat": 4,
 "nbformat_minor": 2
}
